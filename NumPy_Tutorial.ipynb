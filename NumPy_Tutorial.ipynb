{
  "nbformat": 4,
  "nbformat_minor": 0,
  "metadata": {
    "colab": {
      "provenance": [],
      "authorship_tag": "ABX9TyMuqMt6Ww5y0I82tWZvdkXG",
      "include_colab_link": true
    },
    "kernelspec": {
      "name": "python3",
      "display_name": "Python 3"
    },
    "language_info": {
      "name": "python"
    }
  },
  "cells": [
    {
      "cell_type": "markdown",
      "metadata": {
        "id": "view-in-github",
        "colab_type": "text"
      },
      "source": [
        "<a href=\"https://colab.research.google.com/github/MrNeilMehta/NumPy_Tutorial/blob/main/NumPy_Tutorial.ipynb\" target=\"_parent\"><img src=\"https://colab.research.google.com/assets/colab-badge.svg\" alt=\"Open In Colab\"/></a>"
      ]
    },
    {
      "cell_type": "code",
      "execution_count": 2,
      "metadata": {
        "id": "__BFZ75f2qU6"
      },
      "outputs": [],
      "source": [
        "import numpy as np"
      ]
    },
    {
      "cell_type": "markdown",
      "source": [
        "The Basics"
      ],
      "metadata": {
        "id": "WcNg5F8h4OYp"
      }
    },
    {
      "cell_type": "code",
      "source": [
        "a = np.array([1,2,3], dtype='int32')\n",
        "print(a)"
      ],
      "metadata": {
        "colab": {
          "base_uri": "https://localhost:8080/"
        },
        "id": "iXRdj_DV31A6",
        "outputId": "b925a548-82c3-4134-8bf1-23093e3c245c"
      },
      "execution_count": 3,
      "outputs": [
        {
          "output_type": "stream",
          "name": "stdout",
          "text": [
            "[1 2 3]\n"
          ]
        }
      ]
    },
    {
      "cell_type": "code",
      "source": [
        "b = np.array([[9.0,8.0,7.0],[6.0,5.0,4.0]])\n",
        "print(b)"
      ],
      "metadata": {
        "colab": {
          "base_uri": "https://localhost:8080/"
        },
        "id": "nPhrWflO4SSj",
        "outputId": "fb0e23f7-ee69-4df6-a370-28c081dd3a4c"
      },
      "execution_count": 4,
      "outputs": [
        {
          "output_type": "stream",
          "name": "stdout",
          "text": [
            "[[9. 8. 7.]\n",
            " [6. 5. 4.]]\n"
          ]
        }
      ]
    },
    {
      "cell_type": "code",
      "source": [
        "\n",
        "# Get Dimension\n",
        "a.ndim"
      ],
      "metadata": {
        "id": "wJx0eVkz4TjJ"
      },
      "execution_count": null,
      "outputs": []
    },
    {
      "cell_type": "code",
      "source": [
        "# Get Shape\n",
        "b.shape"
      ],
      "metadata": {
        "id": "2Jay4vc34WJ2"
      },
      "execution_count": null,
      "outputs": []
    },
    {
      "cell_type": "code",
      "source": [
        "# Get Type\n",
        "a.dtype"
      ],
      "metadata": {
        "id": "6XcbvNmr4YHo"
      },
      "execution_count": null,
      "outputs": []
    },
    {
      "cell_type": "code",
      "source": [
        "# Get Size\n",
        "a.itemsize"
      ],
      "metadata": {
        "id": "rkurt_oV4aEA"
      },
      "execution_count": null,
      "outputs": []
    },
    {
      "cell_type": "code",
      "source": [
        "# Get total size\n",
        "a.nbytes"
      ],
      "metadata": {
        "id": "3Ag1R4EU4ayq"
      },
      "execution_count": null,
      "outputs": []
    },
    {
      "cell_type": "code",
      "source": [
        "# Get number of elements\n",
        "a.size"
      ],
      "metadata": {
        "id": "i80xOiea4cJP"
      },
      "execution_count": null,
      "outputs": []
    },
    {
      "cell_type": "markdown",
      "source": [
        "Accessing/Changing specific elements, rows, columns, etc"
      ],
      "metadata": {
        "id": "K2aC08Wr4d9p"
      }
    },
    {
      "cell_type": "code",
      "source": [
        "a = np.array([[1,2,3,4,5,6,7],[8,9,10,11,12,13,14]])\n",
        "print(a)"
      ],
      "metadata": {
        "id": "SlhPmcZ54dYz"
      },
      "execution_count": null,
      "outputs": []
    },
    {
      "cell_type": "code",
      "source": [
        "# Get a specific element [r, c]\n",
        "a[1, 5]"
      ],
      "metadata": {
        "id": "OJVV0q2Q4f8N"
      },
      "execution_count": null,
      "outputs": []
    },
    {
      "cell_type": "code",
      "source": [
        "# Get a specific row \n",
        "a[0, :]"
      ],
      "metadata": {
        "id": "SOC17z5j4hGn"
      },
      "execution_count": null,
      "outputs": []
    },
    {
      "cell_type": "code",
      "source": [
        "# Get a specific column\n",
        "a[:, 2]"
      ],
      "metadata": {
        "id": "9KzpMonA4icp"
      },
      "execution_count": null,
      "outputs": []
    },
    {
      "cell_type": "code",
      "source": [
        "# Getting a little more fancy [startindex:endindex:stepsize]\n",
        "a[0, 1:-1:2]"
      ],
      "metadata": {
        "id": "Uy_3QInq4j1M"
      },
      "execution_count": null,
      "outputs": []
    },
    {
      "cell_type": "code",
      "source": [
        "a[1,5] = 20"
      ],
      "metadata": {
        "id": "cKyk_Yi04lUU"
      },
      "execution_count": null,
      "outputs": []
    },
    {
      "cell_type": "code",
      "source": [
        "a[:,2] = [1,2]\n",
        "print(a)"
      ],
      "metadata": {
        "id": "U1gxNWtS4nj0"
      },
      "execution_count": null,
      "outputs": []
    },
    {
      "cell_type": "code",
      "source": [
        "b = np.array([[[1,2],[3,4]],[[5,6],[7,8]]])\n",
        "print(b)"
      ],
      "metadata": {
        "id": "0gKeCKTb4pZs"
      },
      "execution_count": null,
      "outputs": []
    },
    {
      "cell_type": "code",
      "source": [
        "# Get specific element (work outside in)\n",
        "b[0,1,1]"
      ],
      "metadata": {
        "id": "D0MIUPUx4sGr"
      },
      "execution_count": null,
      "outputs": []
    },
    {
      "cell_type": "code",
      "source": [
        "# replace \n",
        "b[:,1,:] = [[9,9,9],[8,8]]"
      ],
      "metadata": {
        "id": "o6cs--vb4uHe"
      },
      "execution_count": null,
      "outputs": []
    },
    {
      "cell_type": "code",
      "source": [
        "b"
      ],
      "metadata": {
        "id": "K96c8Y284utx"
      },
      "execution_count": null,
      "outputs": []
    },
    {
      "cell_type": "markdown",
      "source": [
        "Initializing Different Types of Arrays"
      ],
      "metadata": {
        "id": "RXe6NNEx4wew"
      }
    },
    {
      "cell_type": "code",
      "source": [
        "# All 0s matrix\n",
        "np.zeros((2,3))"
      ],
      "metadata": {
        "id": "sJQ1E9gX4v0Q"
      },
      "execution_count": null,
      "outputs": []
    },
    {
      "cell_type": "code",
      "source": [
        "# All 1s matrix\n",
        "np.ones((4,2,2), dtype='int32')"
      ],
      "metadata": {
        "id": "V2f6ArZp4ye4"
      },
      "execution_count": null,
      "outputs": []
    },
    {
      "cell_type": "code",
      "source": [
        "# Any other number\n",
        "np.full((2,2), 99)"
      ],
      "metadata": {
        "id": "aA76yniY4zrR"
      },
      "execution_count": null,
      "outputs": []
    },
    {
      "cell_type": "code",
      "source": [
        "# Any other number (full_like)\n",
        "np.full_like(a, 4)"
      ],
      "metadata": {
        "id": "_QjoVI2g41k5"
      },
      "execution_count": null,
      "outputs": []
    },
    {
      "cell_type": "code",
      "source": [
        "# Random decimal numbers\n",
        "np.random.rand(4,2)"
      ],
      "metadata": {
        "id": "FEKFLFma42xC"
      },
      "execution_count": null,
      "outputs": []
    },
    {
      "cell_type": "code",
      "source": [
        "# Random Integer values\n",
        "np.random.randint(-4,8, size=(3,3))"
      ],
      "metadata": {
        "id": "TlqH7Pn044Jx"
      },
      "execution_count": null,
      "outputs": []
    },
    {
      "cell_type": "code",
      "source": [
        "# The identity matrix\n",
        "np.identity(5)"
      ],
      "metadata": {
        "id": "gxOUIpAS45ZC"
      },
      "execution_count": null,
      "outputs": []
    },
    {
      "cell_type": "code",
      "source": [
        "# Repeat an array\n",
        "arr = np.array([[1,2,3]])\n",
        "r1 = np.repeat(arr,3, axis=0)\n",
        "print(r1)"
      ],
      "metadata": {
        "id": "uOgIbhIF46zg"
      },
      "execution_count": null,
      "outputs": []
    },
    {
      "cell_type": "code",
      "source": [
        "output = np.ones((5,5))\n",
        "print(output)\n",
        "\n",
        "z = np.zeros((3,3))\n",
        "z[1,1] = 9\n",
        "print(z)\n",
        "\n",
        "output[1:-1,1:-1] = z\n",
        "print(output)"
      ],
      "metadata": {
        "id": "muC5Pcx048jw"
      },
      "execution_count": null,
      "outputs": []
    },
    {
      "cell_type": "code",
      "source": [
        "a = np.array([1,2,3])\n",
        "b = a.copy()\n",
        "b[0] = 100\n",
        "\n",
        "print(a)"
      ],
      "metadata": {
        "id": "TAmirSTD490Z"
      },
      "execution_count": null,
      "outputs": []
    },
    {
      "cell_type": "markdown",
      "source": [
        "Mathematics"
      ],
      "metadata": {
        "id": "h-LNZrnm5B9D"
      }
    },
    {
      "cell_type": "code",
      "source": [
        "a = np.array([1,2,3,4])\n",
        "print(a)"
      ],
      "metadata": {
        "id": "d2AvUrsG4_RE"
      },
      "execution_count": null,
      "outputs": []
    },
    {
      "cell_type": "code",
      "source": [
        "a + 2"
      ],
      "metadata": {
        "id": "Mbi6HpED5FuY"
      },
      "execution_count": null,
      "outputs": []
    },
    {
      "cell_type": "code",
      "source": [
        "a - 2"
      ],
      "metadata": {
        "id": "18LQGa3g5GLq"
      },
      "execution_count": null,
      "outputs": []
    },
    {
      "cell_type": "code",
      "source": [
        "a * 2"
      ],
      "metadata": {
        "id": "cePBadwN5HhY"
      },
      "execution_count": null,
      "outputs": []
    },
    {
      "cell_type": "code",
      "source": [
        "a / 2"
      ],
      "metadata": {
        "id": "q3aymAPq5JCq"
      },
      "execution_count": null,
      "outputs": []
    },
    {
      "cell_type": "code",
      "source": [
        "b = np.array([1,0,1,0])\n",
        "a + b"
      ],
      "metadata": {
        "id": "PqClkOHL5KNw"
      },
      "execution_count": null,
      "outputs": []
    },
    {
      "cell_type": "code",
      "source": [
        "a ** 2"
      ],
      "metadata": {
        "id": "lVH_FaCD5LgA"
      },
      "execution_count": null,
      "outputs": []
    },
    {
      "cell_type": "code",
      "source": [
        "# Take the sin\n",
        "np.cos(a)"
      ],
      "metadata": {
        "id": "00C9mJh15Mka"
      },
      "execution_count": null,
      "outputs": []
    },
    {
      "cell_type": "markdown",
      "source": [
        "Linear Algebra"
      ],
      "metadata": {
        "id": "Im9xhCc85P_4"
      }
    },
    {
      "cell_type": "code",
      "source": [
        "a = np.ones((2,3))\n",
        "print(a)\n",
        "\n",
        "b = np.full((3,2), 2)\n",
        "print(b)\n",
        "\n",
        "np.matmul(a,b)"
      ],
      "metadata": {
        "id": "KiKMAsPo5N4Q"
      },
      "execution_count": null,
      "outputs": []
    },
    {
      "cell_type": "code",
      "source": [
        "# Find the determinant\n",
        "c = np.identity(3)\n",
        "np.linalg.det(c)"
      ],
      "metadata": {
        "id": "oE14Vu_M5TOC"
      },
      "execution_count": null,
      "outputs": []
    },
    {
      "cell_type": "markdown",
      "source": [
        "## Reference docs (https://docs.scipy.org/doc/numpy/reference/routines.linalg.html)\n",
        "\n",
        "# Determinant\n",
        "# Trace\n",
        "# Singular Vector Decomposition\n",
        "# Eigenvalues\n",
        "# Matrix Norm\n",
        "# Inverse\n",
        "# Etc..."
      ],
      "metadata": {
        "id": "0qhvg45o5Xa4"
      }
    },
    {
      "cell_type": "markdown",
      "source": [
        "Statstics"
      ],
      "metadata": {
        "id": "fypBpNXe5WIz"
      }
    },
    {
      "cell_type": "code",
      "source": [
        "stats = np.array([[1,2,3],[4,5,6]])\n",
        "stats"
      ],
      "metadata": {
        "id": "yNQZ_j8z5UQY"
      },
      "execution_count": null,
      "outputs": []
    },
    {
      "cell_type": "code",
      "source": [
        "np.min(stats)"
      ],
      "metadata": {
        "id": "D9jj469_5bgx"
      },
      "execution_count": null,
      "outputs": []
    },
    {
      "cell_type": "code",
      "source": [
        "np.max(stats, axis=1)"
      ],
      "metadata": {
        "id": "8vD7rHjw5cZ5"
      },
      "execution_count": null,
      "outputs": []
    },
    {
      "cell_type": "code",
      "source": [
        "np.sum(stats, axis=0)"
      ],
      "metadata": {
        "id": "vYwRPhLw5d3g"
      },
      "execution_count": null,
      "outputs": []
    },
    {
      "cell_type": "markdown",
      "source": [
        "Reorganising Arrays"
      ],
      "metadata": {
        "id": "QvuLT0Lc5fWB"
      }
    },
    {
      "cell_type": "code",
      "source": [
        "before = np.array([[1,2,3,4],[5,6,7,8]])\n",
        "print(before)\n",
        "\n",
        "after = before.reshape((2,3))\n",
        "print(after)"
      ],
      "metadata": {
        "id": "NOlmrsTf5efJ"
      },
      "execution_count": null,
      "outputs": []
    },
    {
      "cell_type": "code",
      "source": [
        "# Vertically stacking vectors\n",
        "v1 = np.array([1,2,3,4])\n",
        "v2 = np.array([5,6,7,8])\n",
        "\n",
        "np.vstack([v1,v2,v1,v2])"
      ],
      "metadata": {
        "id": "_LifOUrb5iT5"
      },
      "execution_count": null,
      "outputs": []
    },
    {
      "cell_type": "code",
      "source": [
        "# Horizontal  stack\n",
        "h1 = np.ones((2,4))\n",
        "h2 = np.zeros((2,2))\n",
        "\n",
        "np.hstack((h1,h2))"
      ],
      "metadata": {
        "id": "L38ZRSzY5jXB"
      },
      "execution_count": null,
      "outputs": []
    },
    {
      "cell_type": "markdown",
      "source": [
        "Misc\n",
        "\n",
        "Load Data from File"
      ],
      "metadata": {
        "id": "ZQ9u2nxD5mb4"
      }
    },
    {
      "cell_type": "code",
      "source": [
        "filedata = np.genfromtxt('data.txt', delimiter=',')\n",
        "filedata = filedata.astype('int32')\n",
        "print(filedata)"
      ],
      "metadata": {
        "id": "FUjfXCRp5le4"
      },
      "execution_count": null,
      "outputs": []
    },
    {
      "cell_type": "markdown",
      "source": [
        "Boolean Masking and Advanced Indexing"
      ],
      "metadata": {
        "id": "FZcCffGd5qta"
      }
    },
    {
      "cell_type": "code",
      "source": [
        "(~((filedata > 50) & (filedata < 100)))"
      ],
      "metadata": {
        "id": "N6U7LAmR5s7B"
      },
      "execution_count": null,
      "outputs": []
    }
  ]
}